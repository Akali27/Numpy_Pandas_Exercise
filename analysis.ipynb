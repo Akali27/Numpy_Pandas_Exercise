{
 "cells": [
  {
   "cell_type": "code",
   "execution_count": 1,
   "id": "49394354",
   "metadata": {},
   "outputs": [],
   "source": [
    "#import dependencies"
    "import pandas as pd\n",
    "import numpy as np"
   ]
  },
  {
   "cell_type": "code",
   "execution_count": 2,
   "id": "0516945e",
   "metadata": {},
   "outputs": [],
   "source": [
    "jsonfile = \"purchase_data.json\""
   ]
  },
  {
   "cell_type": "code",
   "execution_count": 3,
   "id": "24784d82",
   "metadata": {},
   "outputs": [
    {
     "data": {
      "text/html": [
       "<div>\n",
       "<style scoped>\n",
       "    .dataframe tbody tr th:only-of-type {\n",
       "        vertical-align: middle;\n",
       "    }\n",
       "\n",
       "    .dataframe tbody tr th {\n",
       "        vertical-align: top;\n",
       "    }\n",
       "\n",
       "    .dataframe thead th {\n",
       "        text-align: right;\n",
       "    }\n",
       "</style>\n",
       "<table border=\"1\" class=\"dataframe\">\n",
       "  <thead>\n",
       "    <tr style=\"text-align: right;\">\n",
       "      <th></th>\n",
       "      <th>SN</th>\n",
       "      <th>Age</th>\n",
       "      <th>Gender</th>\n",
       "      <th>Item ID</th>\n",
       "      <th>Item Name</th>\n",
       "      <th>Price</th>\n",
       "    </tr>\n",
       "  </thead>\n",
       "  <tbody>\n",
       "    <tr>\n",
       "      <th>0</th>\n",
       "      <td>Aelalis34</td>\n",
       "      <td>38</td>\n",
       "      <td>Male</td>\n",
       "      <td>165</td>\n",
       "      <td>Bone Crushing Silver Skewer</td>\n",
       "      <td>3.37</td>\n",
       "    </tr>\n",
       "    <tr>\n",
       "      <th>1</th>\n",
       "      <td>Eolo46</td>\n",
       "      <td>21</td>\n",
       "      <td>Male</td>\n",
       "      <td>119</td>\n",
       "      <td>Stormbringer, Dark Blade of Ending Misery</td>\n",
       "      <td>2.32</td>\n",
       "    </tr>\n",
       "    <tr>\n",
       "      <th>2</th>\n",
       "      <td>Assastnya25</td>\n",
       "      <td>34</td>\n",
       "      <td>Male</td>\n",
       "      <td>174</td>\n",
       "      <td>Primitive Blade</td>\n",
       "      <td>2.46</td>\n",
       "    </tr>\n",
       "    <tr>\n",
       "      <th>3</th>\n",
       "      <td>Pheusrical25</td>\n",
       "      <td>21</td>\n",
       "      <td>Male</td>\n",
       "      <td>92</td>\n",
       "      <td>Final Critic</td>\n",
       "      <td>1.36</td>\n",
       "    </tr>\n",
       "    <tr>\n",
       "      <th>4</th>\n",
       "      <td>Aela59</td>\n",
       "      <td>23</td>\n",
       "      <td>Male</td>\n",
       "      <td>63</td>\n",
       "      <td>Stormfury Mace</td>\n",
       "      <td>1.27</td>\n",
       "    </tr>\n",
       "  </tbody>\n",
       "</table>\n",
       "</div>"
      ],
      "text/plain": [
       "             SN  Age Gender  Item ID   \n",
       "0     Aelalis34   38   Male      165  \\\n",
       "1        Eolo46   21   Male      119   \n",
       "2   Assastnya25   34   Male      174   \n",
       "3  Pheusrical25   21   Male       92   \n",
       "4        Aela59   23   Male       63   \n",
       "\n",
       "                                   Item Name  Price  \n",
       "0                Bone Crushing Silver Skewer   3.37  \n",
       "1  Stormbringer, Dark Blade of Ending Misery   2.32  \n",
       "2                            Primitive Blade   2.46  \n",
       "3                               Final Critic   1.36  \n",
       "4                             Stormfury Mace   1.27  "
      ]
     },
     "execution_count": 3,
     "metadata": {},
     "output_type": "execute_result"
    }
   ],
   "source": [
    "purchase_data_df = pd.read_json(jsonfile)\n",
    "purchase_data_df.head()"
   ]
  },
  {
   "cell_type": "code",
   "execution_count": 4,
   "id": "c461ebee",
   "metadata": {},
   "outputs": [
    {
     "data": {
      "text/plain": [
       "573"
      ]
     },
     "execution_count": 4,
     "metadata": {},
     "output_type": "execute_result"
    }
   ],
   "source": [
    "#Player Count\n",
    "total_players = purchase_data_df['SN'].nunique()\n",
    "total_players"
   ]
  },
  {
   "cell_type": "code",
   "execution_count": 5,
   "id": "41231cd2",
   "metadata": {},
   "outputs": [
    {
     "data": {
      "text/plain": [
       "183"
      ]
     },
     "execution_count": 5,
     "metadata": {},
     "output_type": "execute_result"
    }
   ],
   "source": [
    "#Number of Unique Items\n",
    "total_items = purchase_data_df['Item ID'].nunique()\n",
    "total_items"
   ]
  },
  {
   "cell_type": "code",
   "execution_count": 6,
   "id": "84ece5ea",
   "metadata": {},
   "outputs": [
    {
     "data": {
      "text/plain": [
       "2.9311923076923074"
      ]
     },
     "execution_count": 6,
     "metadata": {},
     "output_type": "execute_result"
    }
   ],
   "source": [
    "average_price = purchase_data_df['Price'].mean()\n",
    "average_price"
   ]
  },
  {
   "cell_type": "code",
   "execution_count": 7,
   "id": "a6b6aa3d",
   "metadata": {},
   "outputs": [
    {
     "data": {
      "text/plain": [
       "780"
      ]
     },
     "execution_count": 7,
     "metadata": {},
     "output_type": "execute_result"
    }
   ],
   "source": [
    "#Total Number of Purchases\n",
    "total_purchases = len(purchase_data_df)\n",
    "total_purchases "
   ]
  },
  {
   "cell_type": "code",
   "execution_count": 8,
   "id": "4a9d3679",
   "metadata": {},
   "outputs": [
    {
     "data": {
      "text/plain": [
       "2286.33"
      ]
     },
     "execution_count": 8,
     "metadata": {},
     "output_type": "execute_result"
    }
   ],
   "source": [
    "#Total Revenue\n",
    "total_revenue = purchase_data_df['Price'].sum()\n",
    "total_revenue"
   ]
  },
  {
   "cell_type": "code",
   "execution_count": 9,
   "id": "6e01c266",
   "metadata": {},
   "outputs": [],
   "source": [
    "# Gender Demographics\n",
    "gender_df = purchase_data_df[['Item ID', \"Gender\"]].groupby(by = \"Gender\").count()\n",
    "gender_df.rename(columns = {\"Item ID\": \"Purchase Count\"}, inplace = True)"
   ]
  },
  {
   "cell_type": "code",
   "execution_count": 10,
   "id": "4bf619e6",
   "metadata": {},
   "outputs": [
    {
     "data": {
      "text/html": [
       "<div>\n",
       "<style scoped>\n",
       "    .dataframe tbody tr th:only-of-type {\n",
       "        vertical-align: middle;\n",
       "    }\n",
       "\n",
       "    .dataframe tbody tr th {\n",
       "        vertical-align: top;\n",
       "    }\n",
       "\n",
       "    .dataframe thead th {\n",
       "        text-align: right;\n",
       "    }\n",
       "</style>\n",
       "<table border=\"1\" class=\"dataframe\">\n",
       "  <thead>\n",
       "    <tr style=\"text-align: right;\">\n",
       "      <th></th>\n",
       "      <th>Purchase Count</th>\n",
       "      <th>Unique Count</th>\n",
       "    </tr>\n",
       "    <tr>\n",
       "      <th>Gender</th>\n",
       "      <th></th>\n",
       "      <th></th>\n",
       "    </tr>\n",
       "  </thead>\n",
       "  <tbody>\n",
       "    <tr>\n",
       "      <th>Female</th>\n",
       "      <td>136</td>\n",
       "      <td>100</td>\n",
       "    </tr>\n",
       "    <tr>\n",
       "      <th>Male</th>\n",
       "      <td>633</td>\n",
       "      <td>465</td>\n",
       "    </tr>\n",
       "    <tr>\n",
       "      <th>Other / Non-Disclosed</th>\n",
       "      <td>11</td>\n",
       "      <td>8</td>\n",
       "    </tr>\n",
       "  </tbody>\n",
       "</table>\n",
       "</div>"
      ],
      "text/plain": [
       "                       Purchase Count  Unique Count\n",
       "Gender                                             \n",
       "Female                            136           100\n",
       "Male                              633           465\n",
       "Other / Non-Disclosed              11             8"
      ]
     },
     "execution_count": 10,
     "metadata": {},
     "output_type": "execute_result"
    }
   ],
   "source": [
    "gender_unique_count = purchase_data_df.drop_duplicates(['SN'], keep = \"last\")\n",
    "gender_df['Unique Count'] = gender_unique_count[['SN', \"Gender\"]].groupby(by = \"Gender\").count()\n",
    "gender_df"
   ]
  },
  {
   "cell_type": "code",
   "execution_count": 11,
   "id": "9db4eefd",
   "metadata": {},
   "outputs": [],
   "source": [
    "#Purchasing Analysis (Gender)\n",
    "males_count = gender_df.loc['Male'][0]\n",
    "males_percent = males_count / total_purchases\n",
    "females_count = gender_df.loc['Female'][0]\n",
    "females_percent = females_count / total_purchases\n",
    "other_count = gender_df.loc['Other / Non-Disclosed'][0]\n",
    "other_percent = other_count / total_purchases"
   ]
  },
  {
   "cell_type": "code",
   "execution_count": 12,
   "id": "1e56fbe1",
   "metadata": {},
   "outputs": [
    {
     "data": {
      "text/plain": [
       "633"
      ]
     },
     "execution_count": 12,
     "metadata": {},
     "output_type": "execute_result"
    }
   ],
   "source": [
    "males_count "
   ]
  },
  {
   "cell_type": "code",
   "execution_count": 13,
   "id": "ae98638b",
   "metadata": {},
   "outputs": [
    {
     "data": {
      "text/plain": [
       "0.8115384615384615"
      ]
     },
     "execution_count": 13,
     "metadata": {},
     "output_type": "execute_result"
    }
   ],
   "source": [
    "males_percent"
   ]
  },
  {
   "cell_type": "code",
   "execution_count": 14,
   "id": "bc9f1555",
   "metadata": {},
   "outputs": [
    {
     "data": {
      "text/plain": [
       "136"
      ]
     },
     "execution_count": 14,
     "metadata": {},
     "output_type": "execute_result"
    }
   ],
   "source": [
    "females_count"
   ]
  },
  {
   "cell_type": "code",
   "execution_count": 15,
   "id": "5ef0ba21",
   "metadata": {},
   "outputs": [
    {
     "data": {
      "text/plain": [
       "0.17435897435897435"
      ]
     },
     "execution_count": 15,
     "metadata": {},
     "output_type": "execute_result"
    }
   ],
   "source": [
    "females_percent"
   ]
  },
  {
   "cell_type": "code",
   "execution_count": 16,
   "id": "bc715f8c",
   "metadata": {},
   "outputs": [
    {
     "data": {
      "text/plain": [
       "11"
      ]
     },
     "execution_count": 16,
     "metadata": {},
     "output_type": "execute_result"
    }
   ],
   "source": [
    "other_count"
   ]
  },
  {
   "cell_type": "code",
   "execution_count": 17,
   "id": "45154486",
   "metadata": {},
   "outputs": [
    {
     "data": {
      "text/plain": [
       "0.014102564102564103"
      ]
     },
     "execution_count": 17,
     "metadata": {},
     "output_type": "execute_result"
    }
   ],
   "source": [
    "other_percent"
   ]
  },
  {
   "cell_type": "code",
   "execution_count": 18,
   "id": "f33f9ba7",
   "metadata": {},
   "outputs": [],
   "source": [
    "my_dict = {\"Purchase Count\": {\"males\": males_count, \"females\": females_count, \"others\": other_count}, \n",
    "           \"Percent\": {\"females\": females_percent, \"males\": males_percent, \"others\": other_count}}"
   ]
  },
  {
   "cell_type": "code",
   "execution_count": 19,
   "id": "9925154f",
   "metadata": {},
   "outputs": [
    {
     "data": {
      "text/html": [
       "<div>\n",
       "<style scoped>\n",
       "    .dataframe tbody tr th:only-of-type {\n",
       "        vertical-align: middle;\n",
       "    }\n",
       "\n",
       "    .dataframe tbody tr th {\n",
       "        vertical-align: top;\n",
       "    }\n",
       "\n",
       "    .dataframe thead th {\n",
       "        text-align: right;\n",
       "    }\n",
       "</style>\n",
       "<table border=\"1\" class=\"dataframe\">\n",
       "  <thead>\n",
       "    <tr style=\"text-align: right;\">\n",
       "      <th></th>\n",
       "      <th>Purchase Count</th>\n",
       "      <th>Percent</th>\n",
       "    </tr>\n",
       "  </thead>\n",
       "  <tbody>\n",
       "    <tr>\n",
       "      <th>males</th>\n",
       "      <td>633</td>\n",
       "      <td>0.811538</td>\n",
       "    </tr>\n",
       "    <tr>\n",
       "      <th>females</th>\n",
       "      <td>136</td>\n",
       "      <td>0.174359</td>\n",
       "    </tr>\n",
       "    <tr>\n",
       "      <th>others</th>\n",
       "      <td>11</td>\n",
       "      <td>11.000000</td>\n",
       "    </tr>\n",
       "  </tbody>\n",
       "</table>\n",
       "</div>"
      ],
      "text/plain": [
       "         Purchase Count    Percent\n",
       "males               633   0.811538\n",
       "females             136   0.174359\n",
       "others               11  11.000000"
      ]
     },
     "execution_count": 19,
     "metadata": {},
     "output_type": "execute_result"
    }
   ],
   "source": [
    "gender_demographics_df = pd.DataFrame(data = my_dict)\n",
    "gender_demographics_df.head()"
   ]
  },
  {
   "cell_type": "code",
   "execution_count": null,
   "id": "1b4a7700",
   "metadata": {},
   "outputs": [],
   "source": [
    "gender_metrics = pd.DataFrame(index = gender_df.index)\n",
    "gender_metrics['Purchase Count'] = gender_df['Purchase Count']\n",
    "gender_metrics['Average Purchase Price'] = purchase_data_df.groupby(by = \"Gender\").mean()['Price']\n",
    "gender_metrics['Total Purchase Value'] = purchase_data_df.groupby(by = \"Gender\").sum()['Price']\n",
    "gender_metrics['Normalized Average'] = gender_metrics['Total Purchase Value'] / gender_df[\"Unique Count\"]\n",
    "gender_metrics"
   ]
  },
  {
   "cell_type": "code",
   "execution_count": 20,
   "id": "43d03792",
   "metadata": {},
   "outputs": [],
   "source": [
    "#Age Demographics\n",
    "bins = np.arange(0, purchase_data_df['Age'].max(), 4)\n",
    "labels = [\"0-4\", \"4-8\", \"8-12\", \"12-16\", \"16-20\", \"20-24\", \"28-32\", \"32-36\", \"36-40\", \"40-44\", \"44+\"]\n"
   ]
  },
  {
   "cell_type": "code",
   "execution_count": 21,
   "id": "5c375963",
   "metadata": {},
   "outputs": [],
   "source": [
    "purchase_data_df['Age Group'] = pd.cut(purchase_data_df['Age'], bins = bins, labels = labels)\n"
   ]
  },
  {
   "cell_type": "code",
   "execution_count": 22,
   "id": "efb4b32f",
   "metadata": {},
   "outputs": [
    {
     "data": {
      "text/html": [
       "<div>\n",
       "<style scoped>\n",
       "    .dataframe tbody tr th:only-of-type {\n",
       "        vertical-align: middle;\n",
       "    }\n",
       "\n",
       "    .dataframe tbody tr th {\n",
       "        vertical-align: top;\n",
       "    }\n",
       "\n",
       "    .dataframe thead th {\n",
       "        text-align: right;\n",
       "    }\n",
       "</style>\n",
       "<table border=\"1\" class=\"dataframe\">\n",
       "  <thead>\n",
       "    <tr style=\"text-align: right;\">\n",
       "      <th></th>\n",
       "      <th>Purchase Count</th>\n",
       "    </tr>\n",
       "    <tr>\n",
       "      <th>Age Group</th>\n",
       "      <th></th>\n",
       "    </tr>\n",
       "  </thead>\n",
       "  <tbody>\n",
       "    <tr>\n",
       "      <th>0-4</th>\n",
       "      <td>0</td>\n",
       "    </tr>\n",
       "    <tr>\n",
       "      <th>4-8</th>\n",
       "      <td>22</td>\n",
       "    </tr>\n",
       "    <tr>\n",
       "      <th>8-12</th>\n",
       "      <td>24</td>\n",
       "    </tr>\n",
       "    <tr>\n",
       "      <th>12-16</th>\n",
       "      <td>87</td>\n",
       "    </tr>\n",
       "    <tr>\n",
       "      <th>16-20</th>\n",
       "      <td>161</td>\n",
       "    </tr>\n",
       "  </tbody>\n",
       "</table>\n",
       "</div>"
      ],
      "text/plain": [
       "           Purchase Count\n",
       "Age Group                \n",
       "0-4                     0\n",
       "4-8                    22\n",
       "8-12                   24\n",
       "12-16                  87\n",
       "16-20                 161"
      ]
     },
     "execution_count": 22,
     "metadata": {},
     "output_type": "execute_result"
    }
   ],
   "source": [
    "age_demo_df = purchase_data_df[['Age Group', 'Price']].groupby('Age Group').count()\n",
    "age_demo_df.rename(columns = {\"Price\": \"Purchase Count\"}, inplace = True)\n",
    "age_demo_df.head()"
   ]
  },
  {
   "cell_type": "code",
   "execution_count": 23,
   "id": "c26e1bca",
   "metadata": {},
   "outputs": [
    {
     "data": {
      "text/html": [
       "<div>\n",
       "<style scoped>\n",
       "    .dataframe tbody tr th:only-of-type {\n",
       "        vertical-align: middle;\n",
       "    }\n",
       "\n",
       "    .dataframe tbody tr th {\n",
       "        vertical-align: top;\n",
       "    }\n",
       "\n",
       "    .dataframe thead th {\n",
       "        text-align: right;\n",
       "    }\n",
       "</style>\n",
       "<table border=\"1\" class=\"dataframe\">\n",
       "  <thead>\n",
       "    <tr style=\"text-align: right;\">\n",
       "      <th></th>\n",
       "      <th>Purchase Count</th>\n",
       "      <th>Total Purchase Value</th>\n",
       "      <th>Unique Count</th>\n",
       "      <th>Average Purchase Price</th>\n",
       "      <th>Normalized Average</th>\n",
       "    </tr>\n",
       "    <tr>\n",
       "      <th>Age Group</th>\n",
       "      <th></th>\n",
       "      <th></th>\n",
       "      <th></th>\n",
       "      <th></th>\n",
       "      <th></th>\n",
       "    </tr>\n",
       "  </thead>\n",
       "  <tbody>\n",
       "    <tr>\n",
       "      <th>0-4</th>\n",
       "      <td>0</td>\n",
       "      <td>0.00</td>\n",
       "      <td>0</td>\n",
       "      <td>NaN</td>\n",
       "      <td>NaN</td>\n",
       "    </tr>\n",
       "    <tr>\n",
       "      <th>4-8</th>\n",
       "      <td>22</td>\n",
       "      <td>61.34</td>\n",
       "      <td>13</td>\n",
       "      <td>2.788182</td>\n",
       "      <td>4.718462</td>\n",
       "    </tr>\n",
       "    <tr>\n",
       "      <th>8-12</th>\n",
       "      <td>24</td>\n",
       "      <td>81.25</td>\n",
       "      <td>18</td>\n",
       "      <td>3.385417</td>\n",
       "      <td>4.513889</td>\n",
       "    </tr>\n",
       "    <tr>\n",
       "      <th>12-16</th>\n",
       "      <td>87</td>\n",
       "      <td>238.89</td>\n",
       "      <td>64</td>\n",
       "      <td>2.745862</td>\n",
       "      <td>3.732656</td>\n",
       "    </tr>\n",
       "    <tr>\n",
       "      <th>16-20</th>\n",
       "      <td>161</td>\n",
       "      <td>468.03</td>\n",
       "      <td>120</td>\n",
       "      <td>2.907019</td>\n",
       "      <td>3.900250</td>\n",
       "    </tr>\n",
       "    <tr>\n",
       "      <th>20-24</th>\n",
       "      <td>238</td>\n",
       "      <td>696.09</td>\n",
       "      <td>186</td>\n",
       "      <td>2.924748</td>\n",
       "      <td>3.742419</td>\n",
       "    </tr>\n",
       "    <tr>\n",
       "      <th>28-32</th>\n",
       "      <td>104</td>\n",
       "      <td>309.37</td>\n",
       "      <td>75</td>\n",
       "      <td>2.974712</td>\n",
       "      <td>4.124933</td>\n",
       "    </tr>\n",
       "    <tr>\n",
       "      <th>32-36</th>\n",
       "      <td>66</td>\n",
       "      <td>202.09</td>\n",
       "      <td>44</td>\n",
       "      <td>3.061970</td>\n",
       "      <td>4.592955</td>\n",
       "    </tr>\n",
       "    <tr>\n",
       "      <th>36-40</th>\n",
       "      <td>38</td>\n",
       "      <td>113.28</td>\n",
       "      <td>28</td>\n",
       "      <td>2.981053</td>\n",
       "      <td>4.045714</td>\n",
       "    </tr>\n",
       "    <tr>\n",
       "      <th>40-44</th>\n",
       "      <td>37</td>\n",
       "      <td>107.35</td>\n",
       "      <td>22</td>\n",
       "      <td>2.901351</td>\n",
       "      <td>4.879545</td>\n",
       "    </tr>\n",
       "    <tr>\n",
       "      <th>44+</th>\n",
       "      <td>2</td>\n",
       "      <td>5.92</td>\n",
       "      <td>2</td>\n",
       "      <td>2.960000</td>\n",
       "      <td>2.960000</td>\n",
       "    </tr>\n",
       "  </tbody>\n",
       "</table>\n",
       "</div>"
      ],
      "text/plain": [
       "           Purchase Count  Total Purchase Value  Unique Count   \n",
       "Age Group                                                       \n",
       "0-4                     0                  0.00             0  \\\n",
       "4-8                    22                 61.34            13   \n",
       "8-12                   24                 81.25            18   \n",
       "12-16                  87                238.89            64   \n",
       "16-20                 161                468.03           120   \n",
       "20-24                 238                696.09           186   \n",
       "28-32                 104                309.37            75   \n",
       "32-36                  66                202.09            44   \n",
       "36-40                  38                113.28            28   \n",
       "40-44                  37                107.35            22   \n",
       "44+                     2                  5.92             2   \n",
       "\n",
       "           Average Purchase Price  Normalized Average  \n",
       "Age Group                                              \n",
       "0-4                           NaN                 NaN  \n",
       "4-8                      2.788182            4.718462  \n",
       "8-12                     3.385417            4.513889  \n",
       "12-16                    2.745862            3.732656  \n",
       "16-20                    2.907019            3.900250  \n",
       "20-24                    2.924748            3.742419  \n",
       "28-32                    2.974712            4.124933  \n",
       "32-36                    3.061970            4.592955  \n",
       "36-40                    2.981053            4.045714  \n",
       "40-44                    2.901351            4.879545  \n",
       "44+                      2.960000            2.960000  "
      ]
     },
     "execution_count": 23,
     "metadata": {},
     "output_type": "execute_result"
    }
   ],
   "source": [
    "age_demo_df['Total Purchase Value'] = purchase_data_df[['Age Group', 'Price']].groupby('Age Group').sum()\n",
    "age_unique_count = purchase_data_df.drop_duplicates(['SN'], keep = \"last\")\n",
    "age_demo_df['Unique Count'] = age_unique_count[['SN', \"Age Group\"]].groupby(by = \"Age Group\").count()\n",
    "age_demo_df['Average Purchase Price'] = age_demo_df['Total Purchase Value'] / age_demo_df['Purchase Count']\n",
    "age_demo_df['Normalized Average'] = age_demo_df['Total Purchase Value'] / age_demo_df['Unique Count']\n",
    "age_demo_df"
   ]
  },
  {
   "cell_type": "code",
   "execution_count": 24,
   "id": "01ac9705",
   "metadata": {},
   "outputs": [
    {
     "data": {
      "text/html": [
       "<div>\n",
       "<style scoped>\n",
       "    .dataframe tbody tr th:only-of-type {\n",
       "        vertical-align: middle;\n",
       "    }\n",
       "\n",
       "    .dataframe tbody tr th {\n",
       "        vertical-align: top;\n",
       "    }\n",
       "\n",
       "    .dataframe thead th {\n",
       "        text-align: right;\n",
       "    }\n",
       "</style>\n",
       "<table border=\"1\" class=\"dataframe\">\n",
       "  <thead>\n",
       "    <tr style=\"text-align: right;\">\n",
       "      <th></th>\n",
       "      <th></th>\n",
       "      <th>Purchase Count</th>\n",
       "      <th>Purchase Value</th>\n",
       "      <th>Average Purchase Value</th>\n",
       "    </tr>\n",
       "    <tr>\n",
       "      <th>Item ID</th>\n",
       "      <th>Item Name</th>\n",
       "      <th></th>\n",
       "      <th></th>\n",
       "      <th></th>\n",
       "    </tr>\n",
       "  </thead>\n",
       "  <tbody>\n",
       "    <tr>\n",
       "      <th>39</th>\n",
       "      <th>Betrayal, Whisper of Grieving Widows</th>\n",
       "      <td>11</td>\n",
       "      <td>25.85</td>\n",
       "      <td>2.35</td>\n",
       "    </tr>\n",
       "    <tr>\n",
       "      <th>84</th>\n",
       "      <th>Arcane Gem</th>\n",
       "      <td>11</td>\n",
       "      <td>24.53</td>\n",
       "      <td>2.23</td>\n",
       "    </tr>\n",
       "    <tr>\n",
       "      <th>34</th>\n",
       "      <th>Retribution Axe</th>\n",
       "      <td>9</td>\n",
       "      <td>37.26</td>\n",
       "      <td>4.14</td>\n",
       "    </tr>\n",
       "    <tr>\n",
       "      <th>13</th>\n",
       "      <th>Serenity</th>\n",
       "      <td>9</td>\n",
       "      <td>13.41</td>\n",
       "      <td>1.49</td>\n",
       "    </tr>\n",
       "    <tr>\n",
       "      <th>31</th>\n",
       "      <th>Trickster</th>\n",
       "      <td>9</td>\n",
       "      <td>18.63</td>\n",
       "      <td>2.07</td>\n",
       "    </tr>\n",
       "  </tbody>\n",
       "</table>\n",
       "</div>"
      ],
      "text/plain": [
       "                                              Purchase Count  Purchase Value   \n",
       "Item ID Item Name                                                              \n",
       "39      Betrayal, Whisper of Grieving Widows              11           25.85  \\\n",
       "84      Arcane Gem                                        11           24.53   \n",
       "34      Retribution Axe                                    9           37.26   \n",
       "13      Serenity                                           9           13.41   \n",
       "31      Trickster                                          9           18.63   \n",
       "\n",
       "                                              Average Purchase Value  \n",
       "Item ID Item Name                                                     \n",
       "39      Betrayal, Whisper of Grieving Widows                    2.35  \n",
       "84      Arcane Gem                                              2.23  \n",
       "34      Retribution Axe                                         4.14  \n",
       "13      Serenity                                                1.49  \n",
       "31      Trickster                                               2.07  "
      ]
     },
     "execution_count": 24,
     "metadata": {},
     "output_type": "execute_result"
    }
   ],
   "source": [
    "#Top Spenders\n",
    "players_df = purchase_data_df[['SN', \"Price\"]].groupby('SN').count()\n",
    "players_df.rename(columns = {\"Price\": \"Purchase Count\"}, inplace = True)\n",
    "players_df.head()\n",
    "players_df['Total Purchase Value'] = purchase_data_df[['SN', 'Price']].groupby('SN').sum()\n",
    "players_df.head()\n",
    "players_df['Average Purchase Price'] = players_df['Total Purchase Value'] / players_df['Purchase Count']\n",
    "players_df.sort_values(by = \"Total Purchase Value\", ascending = False, inplace = True)\n",
    "top_5_players = players_df.iloc[0:5 , :]\n",
    "top_5_players#Most Popular Items\n",
    "items_df = purchase_data_df[['Item ID', \"Item Name\", \"Price\"]].groupby(['Item ID', 'Item Name']).count()\n",
    "items_df.rename(columns = {\"Price\": \"Purchase Count\"}, inplace = True)\n",
    "items_df.head()\n",
    "items_df[\"Purchase Value\"] = purchase_data_df[['Item ID', \"Item Name\", \"Price\"]].groupby(['Item ID', 'Item Name']).sum()\n",
    "items_df[\"Average Purchase Value\"] = items_df['Purchase Value'] / items_df['Purchase Count']\n",
    "items_df.sort_values(by = \"Purchase Value\", inplace = True, ascending = False)\n",
    "most_popular_items_by_value = items_df.iloc[ :5, :]\n",
    "most_popular_items_by_value\n",
    "items_df.sort_values(by = \"Purchase Count\", inplace = True, ascending = False)\n",
    "most_popular_items_by_count = items_df.iloc[ :5, :]\n",
    "most_popular_items_by_count"
   ]
  },
  {
   "cell_type": "code",
   "execution_count": 25,
   "id": "711892de",
   "metadata": {},
   "outputs": [
    {
     "data": {
      "text/html": [
       "<div>\n",
       "<style scoped>\n",
       "    .dataframe tbody tr th:only-of-type {\n",
       "        vertical-align: middle;\n",
       "    }\n",
       "\n",
       "    .dataframe tbody tr th {\n",
       "        vertical-align: top;\n",
       "    }\n",
       "\n",
       "    .dataframe thead th {\n",
       "        text-align: right;\n",
       "    }\n",
       "</style>\n",
       "<table border=\"1\" class=\"dataframe\">\n",
       "  <thead>\n",
       "    <tr style=\"text-align: right;\">\n",
       "      <th></th>\n",
       "      <th></th>\n",
       "      <th>Purchase Count</th>\n",
       "      <th>Purchase Value</th>\n",
       "      <th>Average Purchase Value</th>\n",
       "    </tr>\n",
       "    <tr>\n",
       "      <th>Item ID</th>\n",
       "      <th>Item Name</th>\n",
       "      <th></th>\n",
       "      <th></th>\n",
       "      <th></th>\n",
       "    </tr>\n",
       "  </thead>\n",
       "  <tbody>\n",
       "    <tr>\n",
       "      <th>39</th>\n",
       "      <th>Betrayal, Whisper of Grieving Widows</th>\n",
       "      <td>11</td>\n",
       "      <td>25.85</td>\n",
       "      <td>2.35</td>\n",
       "    </tr>\n",
       "    <tr>\n",
       "      <th>84</th>\n",
       "      <th>Arcane Gem</th>\n",
       "      <td>11</td>\n",
       "      <td>24.53</td>\n",
       "      <td>2.23</td>\n",
       "    </tr>\n",
       "    <tr>\n",
       "      <th>34</th>\n",
       "      <th>Retribution Axe</th>\n",
       "      <td>9</td>\n",
       "      <td>37.26</td>\n",
       "      <td>4.14</td>\n",
       "    </tr>\n",
       "    <tr>\n",
       "      <th>13</th>\n",
       "      <th>Serenity</th>\n",
       "      <td>9</td>\n",
       "      <td>13.41</td>\n",
       "      <td>1.49</td>\n",
       "    </tr>\n",
       "    <tr>\n",
       "      <th>31</th>\n",
       "      <th>Trickster</th>\n",
       "      <td>9</td>\n",
       "      <td>18.63</td>\n",
       "      <td>2.07</td>\n",
       "    </tr>\n",
       "  </tbody>\n",
       "</table>\n",
       "</div>"
      ],
      "text/plain": [
       "                                              Purchase Count  Purchase Value   \n",
       "Item ID Item Name                                                              \n",
       "39      Betrayal, Whisper of Grieving Widows              11           25.85  \\\n",
       "84      Arcane Gem                                        11           24.53   \n",
       "34      Retribution Axe                                    9           37.26   \n",
       "13      Serenity                                           9           13.41   \n",
       "31      Trickster                                          9           18.63   \n",
       "\n",
       "                                              Average Purchase Value  \n",
       "Item ID Item Name                                                     \n",
       "39      Betrayal, Whisper of Grieving Widows                    2.35  \n",
       "84      Arcane Gem                                              2.23  \n",
       "34      Retribution Axe                                         4.14  \n",
       "13      Serenity                                                1.49  \n",
       "31      Trickster                                               2.07  "
      ]
     },
     "execution_count": 25,
     "metadata": {},
     "output_type": "execute_result"
    }
   ],
   "source": [
    "#Most Popular Items\n",
    "items_df = purchase_data_df[['Item ID', \"Item Name\", \"Price\"]].groupby(['Item ID', 'Item Name']).count()\n",
    "items_df.rename(columns = {\"Price\": \"Purchase Count\"}, inplace = True)\n",
    "items_df.head()\n",
    "items_df[\"Purchase Value\"] = purchase_data_df[['Item ID', \"Item Name\", \"Price\"]].groupby(['Item ID', 'Item Name']).sum()\n",
    "items_df[\"Average Purchase Value\"] = items_df['Purchase Value'] / items_df['Purchase Count']\n",
    "items_df.sort_values(by = \"Purchase Value\", inplace = True, ascending = False)\n",
    "most_popular_items_by_value = items_df.iloc[ :5, :]\n",
    "most_popular_items_by_value\n",
    "items_df.sort_values(by = \"Purchase Count\", inplace = True, ascending = False)\n",
    "most_popular_items_by_count = items_df.iloc[ :5, :]\n",
    "most_popular_items_by_count"
   ]
  },
  {
   "cell_type": "code",
   "execution_count": 26,
   "id": "dad9777f",
   "metadata": {},
   "outputs": [
    {
     "data": {
      "text/html": [
       "<div>\n",
       "<style scoped>\n",
       "    .dataframe tbody tr th:only-of-type {\n",
       "        vertical-align: middle;\n",
       "    }\n",
       "\n",
       "    .dataframe tbody tr th {\n",
       "        vertical-align: top;\n",
       "    }\n",
       "\n",
       "    .dataframe thead th {\n",
       "        text-align: right;\n",
       "    }\n",
       "</style>\n",
       "<table border=\"1\" class=\"dataframe\">\n",
       "  <thead>\n",
       "    <tr style=\"text-align: right;\">\n",
       "      <th></th>\n",
       "      <th>Item ID</th>\n",
       "      <th>Item Name</th>\n",
       "      <th>Purchase Price</th>\n",
       "      <th>Total Purchase Value</th>\n",
       "      <th>Purchase Count</th>\n",
       "    </tr>\n",
       "  </thead>\n",
       "  <tbody>\n",
       "    <tr>\n",
       "      <th>246</th>\n",
       "      <td>34</td>\n",
       "      <td>Retribution Axe</td>\n",
       "      <td>4.14</td>\n",
       "      <td>37.26</td>\n",
       "      <td>9</td>\n",
       "    </tr>\n",
       "    <tr>\n",
       "      <th>411</th>\n",
       "      <td>115</td>\n",
       "      <td>Spectral Diamond Doomblade</td>\n",
       "      <td>4.25</td>\n",
       "      <td>29.75</td>\n",
       "      <td>7</td>\n",
       "    </tr>\n",
       "    <tr>\n",
       "      <th>217</th>\n",
       "      <td>32</td>\n",
       "      <td>Orenmir</td>\n",
       "      <td>4.95</td>\n",
       "      <td>29.70</td>\n",
       "      <td>6</td>\n",
       "    </tr>\n",
       "    <tr>\n",
       "      <th>390</th>\n",
       "      <td>103</td>\n",
       "      <td>Singed Scalpel</td>\n",
       "      <td>4.87</td>\n",
       "      <td>29.22</td>\n",
       "      <td>6</td>\n",
       "    </tr>\n",
       "    <tr>\n",
       "      <th>525</th>\n",
       "      <td>107</td>\n",
       "      <td>Splitter, Foe Of Subtlety</td>\n",
       "      <td>3.61</td>\n",
       "      <td>28.88</td>\n",
       "      <td>8</td>\n",
       "    </tr>\n",
       "  </tbody>\n",
       "</table>\n",
       "</div>"
      ],
      "text/plain": [
       "     Item ID                   Item Name  Purchase Price   \n",
       "246       34             Retribution Axe            4.14  \\\n",
       "411      115  Spectral Diamond Doomblade            4.25   \n",
       "217       32                     Orenmir            4.95   \n",
       "390      103              Singed Scalpel            4.87   \n",
       "525      107   Splitter, Foe Of Subtlety            3.61   \n",
       "\n",
       "     Total Purchase Value  Purchase Count  \n",
       "246                 37.26               9  \n",
       "411                 29.75               7  \n",
       "217                 29.70               6  \n",
       "390                 29.22               6  \n",
       "525                 28.88               8  "
      ]
     },
     "execution_count": 26,
     "metadata": {},
     "output_type": "execute_result"
    }
   ],
   "source": [
    "#Most Profitable Items\n",
    "left_frame = purchase_data_df[['Item ID', 'Item Name', 'Price']]\n",
    "right_frame = purchase_data_df[['Item ID', 'Price']].groupby('Item ID').agg(['sum', 'count']).reset_index()\n",
    "right_frame.columns = [' '.join(col).strip() for col in right_frame.columns.values]\n",
    "most_profitable_items = pd.merge(left_frame,right_frame, on=\"Item ID\", how=\"outer\")\n",
    "most_profitable_items\n",
    "most_profitable_items = most_profitable_items.drop_duplicates().sort_values(\"Price sum\", ascending = False).head()\n",
    "most_profitable_items.columns = ['Item ID', 'Item Name', 'Purchase Price', 'Total Purchase Value', 'Purchase Count']\n",
    "most_profitable_items"
   ]
  },
  {
   "cell_type": "code",
   "execution_count": null,
   "id": "9032ea78",
   "metadata": {},
   "outputs": [],
   "source": []
  }
 ],
 "metadata": {
  "kernelspec": {
   "display_name": "Python 3 (ipykernel)",
   "language": "python",
   "name": "python3"
  },
  "language_info": {
   "codemirror_mode": {
    "name": "ipython",
    "version": 3
   },
   "file_extension": ".py",
   "mimetype": "text/x-python",
   "name": "python",
   "nbconvert_exporter": "python",
   "pygments_lexer": "ipython3",
   "version": "3.11.3"
  }
 },
 "nbformat": 4,
 "nbformat_minor": 5
}
